{
 "cells": [
  {
   "cell_type": "code",
   "execution_count": 7,
   "metadata": {},
   "outputs": [],
   "source": [
    "import sqlite3 as db\n",
    "import datetime\n",
    "from IPython.display import display, Javascript, Image\n",
    "from ipywidgets import widgets\n",
    "import time\n",
    "from pop import Thermopile\n",
    "import matplotlib\n",
    "import matplotlib.font_manager as fm\n",
    "import threading\n",
    "%matplotlib inline\n",
    "import pandas as pd             # 데이터를 저장하고 처리하는 패키지\n",
    "import matplotlib as mpl        # 그래프를 그리는 패키지\n",
    "import matplotlib.pyplot as plt # 그래프를 그리는 패키지\n",
    "import multiprocessing as mp\n",
    "import cv2\n",
    "import numpy as np\n",
    "from pop import Util\n",
    "from pop import CO2\n",
    "\n",
    "Util.enable_imshow()\n",
    "\n",
    "lab = []\n",
    "c = CO2(0)"
   ]
  },
  {
   "cell_type": "code",
   "execution_count": 8,
   "metadata": {},
   "outputs": [
    {
     "ename": "OperationalError",
     "evalue": "table PersonTem already exists",
     "output_type": "error",
     "traceback": [
      "\u001b[0;31m---------------------------------------------------------------------------\u001b[0m",
      "\u001b[0;31mOperationalError\u001b[0m                          Traceback (most recent call last)",
      "\u001b[0;32m<ipython-input-8-6ee12d092b3f>\u001b[0m in \u001b[0;36m<module>\u001b[0;34m\u001b[0m\n\u001b[1;32m      4\u001b[0m     (id INTEGER PRIMARY KEY AUTOINCREMENT,\n\u001b[1;32m      5\u001b[0m     \u001b[0mTemp\u001b[0m \u001b[0mREAL\u001b[0m \u001b[0mNOT\u001b[0m \u001b[0mNULL\u001b[0m\u001b[0;34m,\u001b[0m\u001b[0;34m\u001b[0m\u001b[0;34m\u001b[0m\u001b[0m\n\u001b[0;32m----> 6\u001b[0;31m     date TEXT NOT NULL)\"\"\")\n\u001b[0m",
      "\u001b[0;31mOperationalError\u001b[0m: table PersonTem already exists"
     ]
    }
   ],
   "source": [
    "#conn = db.connect(\"thermopile.db\")\n",
    "with db.connect(\"/home/soda/Project/python/notebook/CO2.db\") as conn:\n",
    "    conn.execute(\"\"\"CREATE TABLE PersonTem\n",
    "    (id INTEGER PRIMARY KEY AUTOINCREMENT,\n",
    "    Temp REAL NOT NULL,\n",
    "    date TEXT NOT NULL)\"\"\")"
   ]
  },
  {
   "cell_type": "code",
   "execution_count": 13,
   "metadata": {},
   "outputs": [],
   "source": [
    "def database1(): # 데이터베이스에 센서 값 저장\n",
    "    global d\n",
    "    global lab\n",
    "    with db.connect(\"/home/soda/Project/python/notebook/CO2.db\") as conn:\n",
    "        c=conn.cursor()\n",
    "        data = c.calcPPM()\n",
    "        now = datetime.datetime.now()\n",
    "        nowDatetime = now.strftime('%m-%d %H:%M')\n",
    "        lab[-1].value=\"CO2: {} [C], date : {}\".format(data,nowDatetime)\n",
    "        c.execute(\"INSERT INTO PersonTem(Temp,date) VALUES ('{}','{}') \".format(data,nowDatetime))\n",
    "        conn.commit()"
   ]
  },
  {
   "cell_type": "code",
   "execution_count": 14,
   "metadata": {},
   "outputs": [],
   "source": [
    "def dataconvert1(): # 데이터베이스에 있는 파일을 엑셀 파일로 변환\n",
    "    with db.connect(\"/home/soda/Project/python/notebook/CO2.db\") as conn:\n",
    "        conn.row_factory = db.Row\n",
    "\n",
    "        c = conn.cursor()\n",
    "        tableAll=c.execute(\"SELECT * FROM PersonTem\")\n",
    "\n",
    "        row = c.fetchone()\n",
    "        writeRow = \",\".join([str(i) for i in row.keys()]) + '\\n'\n",
    "\n",
    "        with open(\"/home/soda/Project/python/notebook/data.csv\",\"wb\") as file:\n",
    "            file.write(writeRow.encode())\n",
    "            for data in tableAll:\n",
    "                writeStr = [str(i).replace(',', '') for i in data]\n",
    "                writeRow = \",\".join(writeStr) + '\\n'\n",
    "                file.write(writeRow.encode())"
   ]
  },
  {
   "cell_type": "code",
   "execution_count": 15,
   "metadata": {},
   "outputs": [],
   "source": [
    "def chartPrint():\n",
    "    plt.clf()\n",
    "    df = pd.read_csv('/home/soda/Project/python/notebook/data.csv', index_col='date',encoding='euc-kr')\n",
    "    data_df = df.drop(columns='id')\n",
    "    fm.get_fontconfig_fonts()\n",
    "    font_location = '/usr/share/fonts/nanum/nanumGothicCoding.ttf'\n",
    "    fprop = fm.FontProperties(fname=font_location)\n",
    "    ax = data_df.plot(kind='line', title='CO2',figsize=(12,4),legend=True,fontsize=12)\n",
    "    ax.set_xlabel('2021date', fontsize=12) # x축 정보 표시\n",
    "    ax.set_ylabel('C02',fontsize=12) # y축 정보 표시\n",
    "    ax.legend(['date/time','CO2'])\n",
    "    ax.grid(True,axis='y')\n",
    "    plt.xticks(rotation=45)\n",
    "    plt.savefig('/home/soda/Project/python/notebook/line.png')\n",
    "#     plt.show()"
   ]
  },
  {
   "cell_type": "code",
   "execution_count": 16,
   "metadata": {},
   "outputs": [
    {
     "data": {
      "application/vnd.jupyter.widget-view+json": {
       "model_id": "fcf36305e8cb4e62b8c2c7c5aae3cbe5",
       "version_major": 2,
       "version_minor": 0
      },
      "text/plain": [
       "Label(value='CO2: 0 [C]')"
      ]
     },
     "metadata": {},
     "output_type": "display_data"
    },
    {
     "ename": "AttributeError",
     "evalue": "'sqlite3.Cursor' object has no attribute 'read'",
     "output_type": "error",
     "traceback": [
      "\u001b[0;31m---------------------------------------------------------------------------\u001b[0m",
      "\u001b[0;31mAttributeError\u001b[0m                            Traceback (most recent call last)",
      "\u001b[0;32m<ipython-input-16-e061a7d1575c>\u001b[0m in \u001b[0;36m<module>\u001b[0;34m\u001b[0m\n\u001b[1;32m      3\u001b[0m \u001b[0;31m# dpi = matplotlib.rcParams['figure.dpi']\u001b[0m\u001b[0;34m\u001b[0m\u001b[0;34m\u001b[0m\u001b[0;34m\u001b[0m\u001b[0m\n\u001b[1;32m      4\u001b[0m \u001b[0;32mwhile\u001b[0m \u001b[0;32mTrue\u001b[0m \u001b[0;34m:\u001b[0m\u001b[0;34m\u001b[0m\u001b[0;34m\u001b[0m\u001b[0m\n\u001b[0;32m----> 5\u001b[0;31m     \u001b[0mdatabase1\u001b[0m\u001b[0;34m(\u001b[0m\u001b[0;34m)\u001b[0m\u001b[0;34m\u001b[0m\u001b[0;34m\u001b[0m\u001b[0m\n\u001b[0m\u001b[1;32m      6\u001b[0m     \u001b[0mdataconvert1\u001b[0m\u001b[0;34m(\u001b[0m\u001b[0;34m)\u001b[0m\u001b[0;34m\u001b[0m\u001b[0;34m\u001b[0m\u001b[0m\n\u001b[1;32m      7\u001b[0m     \u001b[0mchartPrint\u001b[0m\u001b[0;34m(\u001b[0m\u001b[0;34m)\u001b[0m\u001b[0;34m\u001b[0m\u001b[0;34m\u001b[0m\u001b[0m\n",
      "\u001b[0;32m<ipython-input-13-1c5ad02d20a7>\u001b[0m in \u001b[0;36mdatabase1\u001b[0;34m()\u001b[0m\n\u001b[1;32m      4\u001b[0m     \u001b[0;32mwith\u001b[0m \u001b[0mdb\u001b[0m\u001b[0;34m.\u001b[0m\u001b[0mconnect\u001b[0m\u001b[0;34m(\u001b[0m\u001b[0;34m\"/home/soda/Project/python/notebook/CO2.db\"\u001b[0m\u001b[0;34m)\u001b[0m \u001b[0;32mas\u001b[0m \u001b[0mconn\u001b[0m\u001b[0;34m:\u001b[0m\u001b[0;34m\u001b[0m\u001b[0;34m\u001b[0m\u001b[0m\n\u001b[1;32m      5\u001b[0m         \u001b[0mc\u001b[0m\u001b[0;34m=\u001b[0m\u001b[0mconn\u001b[0m\u001b[0;34m.\u001b[0m\u001b[0mcursor\u001b[0m\u001b[0;34m(\u001b[0m\u001b[0;34m)\u001b[0m\u001b[0;34m\u001b[0m\u001b[0;34m\u001b[0m\u001b[0m\n\u001b[0;32m----> 6\u001b[0;31m         \u001b[0mdata\u001b[0m \u001b[0;34m=\u001b[0m \u001b[0mc\u001b[0m\u001b[0;34m.\u001b[0m\u001b[0mread\u001b[0m\u001b[0;34m(\u001b[0m\u001b[0;34m)\u001b[0m\u001b[0;34m\u001b[0m\u001b[0;34m\u001b[0m\u001b[0m\n\u001b[0m\u001b[1;32m      7\u001b[0m         \u001b[0mnow\u001b[0m \u001b[0;34m=\u001b[0m \u001b[0mdatetime\u001b[0m\u001b[0;34m.\u001b[0m\u001b[0mdatetime\u001b[0m\u001b[0;34m.\u001b[0m\u001b[0mnow\u001b[0m\u001b[0;34m(\u001b[0m\u001b[0;34m)\u001b[0m\u001b[0;34m\u001b[0m\u001b[0;34m\u001b[0m\u001b[0m\n\u001b[1;32m      8\u001b[0m         \u001b[0mnowDatetime\u001b[0m \u001b[0;34m=\u001b[0m \u001b[0mnow\u001b[0m\u001b[0;34m.\u001b[0m\u001b[0mstrftime\u001b[0m\u001b[0;34m(\u001b[0m\u001b[0;34m'%m-%d %H:%M'\u001b[0m\u001b[0;34m)\u001b[0m\u001b[0;34m\u001b[0m\u001b[0;34m\u001b[0m\u001b[0m\n",
      "\u001b[0;31mAttributeError\u001b[0m: 'sqlite3.Cursor' object has no attribute 'read'"
     ]
    }
   ],
   "source": [
    "lab.append(widgets.Label(value=\"CO2: 0 [C]\"))\n",
    "display(lab[-1])\n",
    "# dpi = matplotlib.rcParams['figure.dpi']\n",
    "while True :\n",
    "    database1()\n",
    "    dataconvert1()\n",
    "    chartPrint()\n",
    "    image = cv2.imread(\"/home/soda/Project/python/notebook/line.png\", cv2.IMREAD_COLOR)\n",
    "#     cv2.imshow(\"image\",image)\n",
    "    cv2.imshow(\"image\",image,width=780,height=900)\n",
    "#     height, width, depth = image.shape\n",
    "#     print(\"w %d,h %d,c %d\"%(width, height, depth))\n",
    "    time.sleep(2)"
   ]
  },
  {
   "cell_type": "code",
   "execution_count": null,
   "metadata": {},
   "outputs": [],
   "source": []
  }
 ],
 "metadata": {
  "kernelspec": {
   "display_name": "Python 3",
   "language": "python",
   "name": "python3"
  },
  "language_info": {
   "codemirror_mode": {
    "name": "ipython",
    "version": 3
   },
   "file_extension": ".py",
   "mimetype": "text/x-python",
   "name": "python",
   "nbconvert_exporter": "python",
   "pygments_lexer": "ipython3",
   "version": "3.6.9"
  }
 },
 "nbformat": 4,
 "nbformat_minor": 4
}
